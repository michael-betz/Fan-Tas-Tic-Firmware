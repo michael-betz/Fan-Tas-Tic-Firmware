{
 "cells": [
  {
   "cell_type": "markdown",
   "metadata": {},
   "source": [
    "# Fan-Tas-Tic test and debug\n",
    "  * Read switch inputs\n",
    "  * Make the LEDs blink, experiment with timing\n",
    "  * Fire the solenoids, experiment with intensities\n",
    "  * Try out quickfire rules\n",
    "  \n",
    "Make sure to connect to the `DEVICE` port on the TM4C123 eval board."
   ]
  },
  {
   "cell_type": "code",
   "execution_count": 7,
   "metadata": {},
   "outputs": [],
   "source": [
    "import os, serial\n",
    "from time import sleep\n",
    "from numpy import *\n",
    "from colorsys import *"
   ]
  },
  {
   "cell_type": "markdown",
   "metadata": {},
   "source": [
    "# Communication functions"
   ]
  },
  {
   "cell_type": "code",
   "execution_count": 2,
   "metadata": {},
   "outputs": [],
   "source": [
    "def updateLed( sObj, dat=None, channel=0 ):\n",
    "    if dat is None:\n",
    "        nLeds = 1024\n",
    "        ledDat = bytearray( os.urandom( nLeds*3 ) )\n",
    "    elif type(dat) is int:\n",
    "        nLeds = dat\n",
    "        ledDat = bytearray( os.urandom( nLeds*3 ) )\n",
    "    else:\n",
    "        nLeds = len(dat)\n",
    "        ledDat = bytearray( dat )\n",
    "    sDat = bytes(\"LED {0} {1}\\n\".format(channel, len(ledDat)), \"utf8\") + ledDat\n",
    "    sObj.write( sDat )"
   ]
  },
  {
   "cell_type": "markdown",
   "metadata": {},
   "source": [
    "# Open serial port connection"
   ]
  },
  {
   "cell_type": "code",
   "execution_count": 9,
   "metadata": {},
   "outputs": [],
   "source": [
    "try:\n",
    "    s.close()\n",
    "except:\n",
    "    pass\n",
    "# Note that the baudrate is ignored (USB virtual serial port!)\n",
    "s = serial.Serial(\"/dev/ttyACM0\", 115200, timeout=1)"
   ]
  },
  {
   "cell_type": "markdown",
   "metadata": {},
   "source": [
    "# Get ID and Software Version"
   ]
  },
  {
   "cell_type": "code",
   "execution_count": 90,
   "metadata": {},
   "outputs": [
    {
     "data": {
      "text/plain": [
       "b'ID:MB:V0.2\\n'"
      ]
     },
     "execution_count": 90,
     "metadata": {},
     "output_type": "execute_result"
    }
   ],
   "source": [
    "s.read_all()          #Clear receive buffer\n",
    "s.write(b\"\\n*IDN?\\n\") #First \\n clears send buffer\n",
    "s.read_until()"
   ]
  },
  {
   "cell_type": "markdown",
   "metadata": {},
   "source": [
    "# Get Switch state"
   ]
  },
  {
   "cell_type": "code",
   "execution_count": 91,
   "metadata": {
    "scrolled": false
   },
   "outputs": [
    {
     "data": {
      "text/plain": [
       "b'SW:f6ffffffffffffff0000000000000000000000000000000000000000000000000000000000000000\\n'"
      ]
     },
     "execution_count": 91,
     "metadata": {},
     "output_type": "execute_result"
    }
   ],
   "source": [
    "#%%timeit   #1000 loops, best of 3: 1.78 ms per loop\n",
    "s.write(b\"SW?\\n\")\n",
    "s.read_until()"
   ]
  },
  {
   "cell_type": "markdown",
   "metadata": {},
   "source": [
    "# Adressable LEDs"
   ]
  },
  {
   "cell_type": "markdown",
   "metadata": {},
   "source": [
    "### Setup a lower speed WS2811 LED strand on CH1"
   ]
  },
  {
   "cell_type": "code",
   "execution_count": 92,
   "metadata": {},
   "outputs": [
    {
     "data": {
      "text/plain": [
       "14"
      ]
     },
     "execution_count": 92,
     "metadata": {},
     "output_type": "execute_result"
    }
   ],
   "source": [
    "s.write(b\"LEC 1 2400000\\n\")"
   ]
  },
  {
   "cell_type": "markdown",
   "metadata": {},
   "source": [
    "Datasheet spec. would be **1.6 Mbit**, but my LED strand glitches like hell with that setting. \n",
    "I found the upper operation limit by trial and error at **3.1 Mbit** and the lower one at **1.7 Mbit**. So now I'm using their average."
   ]
  },
  {
   "cell_type": "markdown",
   "metadata": {},
   "source": [
    "### Setup high speed WS2812 LED strip on CH0"
   ]
  },
  {
   "cell_type": "code",
   "execution_count": 93,
   "metadata": {},
   "outputs": [
    {
     "data": {
      "text/plain": [
       "14"
      ]
     },
     "execution_count": 93,
     "metadata": {},
     "output_type": "execute_result"
    }
   ],
   "source": [
    "s.write(b\"LEC 0 3200000\\n\")"
   ]
  },
  {
   "cell_type": "markdown",
   "metadata": {},
   "source": [
    "# Benchmark LED throughput (worst case)"
   ]
  },
  {
   "cell_type": "code",
   "execution_count": 95,
   "metadata": {},
   "outputs": [
    {
     "name": "stdout",
     "output_type": "stream",
     "text": [
      "22.2 ms ± 5.43 ms per loop (mean ± std. dev. of 7 runs, 100 loops each)\n"
     ]
    }
   ],
   "source": [
    "%%timeit\n",
    "x = array(ones(256 * 3), dtype=uint8)\n",
    "updateLed(s, x, 0)\n",
    "updateLed(s, x, 1)\n",
    "updateLed(s, x, 2)\n",
    "# [USB only] 20.6 ms ± 5.91 ms per loop (mean ± std. dev. of 7 runs, 100 loops each)\n",
    "# [USB + SPI send] 24.8 ms ± 3.92 ms per loop (mean ± std. dev. of 7 runs, 100 loops each)"
   ]
  },
  {
   "cell_type": "markdown",
   "metadata": {},
   "source": [
    "It looks like the USB communication is the bottleneck at the moment. Note that the firmware can transmit on several channels simultaneously but will block if a channel is updated, which has not finished transmitting yet.\n",
    "\n",
    "**TLDR:** If you need > 30 Hz refresh rate, do not connect more than 256 LEDs per output"
   ]
  },
  {
   "cell_type": "markdown",
   "metadata": {},
   "source": [
    "# Play with LEDs"
   ]
  },
  {
   "cell_type": "markdown",
   "metadata": {},
   "source": [
    "### Glitch test"
   ]
  },
  {
   "cell_type": "markdown",
   "metadata": {},
   "source": [
    "Do many sets of the same values. LEDs should show an alternating faint pink / faint green and not flicker at all!"
   ]
  },
  {
   "cell_type": "code",
   "execution_count": 96,
   "metadata": {},
   "outputs": [],
   "source": [
    "x = zeros(59 * 3, dtype=uint8 )\n",
    "x[0:-1][::2] = 1\n",
    "#x[-6:] = 1\n",
    "for i in range(8000):\n",
    "    updateLed(s, x, 0)\n",
    "    updateLed(s, x, 1)\n",
    "    updateLed(s, x, 2)"
   ]
  },
  {
   "cell_type": "markdown",
   "metadata": {},
   "source": [
    "### Turn ON one color after another"
   ]
  },
  {
   "cell_type": "code",
   "execution_count": 19,
   "metadata": {},
   "outputs": [],
   "source": [
    "updateLed(s, zeros(1024*3, dtype=uint8), 1)"
   ]
  },
  {
   "cell_type": "code",
   "execution_count": 20,
   "metadata": {},
   "outputs": [
    {
     "ename": "KeyboardInterrupt",
     "evalue": "",
     "output_type": "error",
     "traceback": [
      "\u001b[0;31m---------------------------------------------------------------------------\u001b[0m",
      "\u001b[0;31mKeyboardInterrupt\u001b[0m                         Traceback (most recent call last)",
      "\u001b[0;32m<ipython-input-20-663ed6bb17ab>\u001b[0m in \u001b[0;36m<module>\u001b[0;34m\u001b[0m\n\u001b[1;32m      6\u001b[0m         \u001b[0mupdateLed\u001b[0m\u001b[0;34m(\u001b[0m\u001b[0ms\u001b[0m\u001b[0;34m,\u001b[0m \u001b[0mx\u001b[0m\u001b[0;34m,\u001b[0m \u001b[0;36m1\u001b[0m\u001b[0;34m)\u001b[0m\u001b[0;34m\u001b[0m\u001b[0;34m\u001b[0m\u001b[0m\n\u001b[1;32m      7\u001b[0m \u001b[0;31m#         updateLed(s, x, 2)\u001b[0m\u001b[0;34m\u001b[0m\u001b[0;34m\u001b[0m\u001b[0;34m\u001b[0m\u001b[0m\n\u001b[0;32m----> 8\u001b[0;31m         \u001b[0mtime\u001b[0m\u001b[0;34m.\u001b[0m\u001b[0msleep\u001b[0m\u001b[0;34m(\u001b[0m\u001b[0;36m1\u001b[0m\u001b[0;34m/\u001b[0m\u001b[0;36m60\u001b[0m\u001b[0;34m)\u001b[0m\u001b[0;34m\u001b[0m\u001b[0;34m\u001b[0m\u001b[0m\n\u001b[0m",
      "\u001b[0;31mKeyboardInterrupt\u001b[0m: "
     ]
    }
   ],
   "source": [
    "while(True):\n",
    "    x = zeros( 59*3, dtype=uint8 )\n",
    "    for i in range(len(x)):\n",
    "        x[i] = 25\n",
    "#         updateLed(s, x, 0)\n",
    "        updateLed(s, x, 1)\n",
    "#         updateLed(s, x, 2)\n",
    "        sleep(1/60)"
   ]
  },
  {
   "cell_type": "markdown",
   "metadata": {},
   "source": [
    "### All LEDs same color"
   ]
  },
  {
   "cell_type": "code",
   "execution_count": 21,
   "metadata": {},
   "outputs": [],
   "source": [
    "x = array( [10, 90, 80]*59, dtype=uint8 )\n",
    "updateLed( s, x, 0 )\n",
    "updateLed( s, x, 1 )\n",
    "updateLed( s, x, 2 )"
   ]
  },
  {
   "cell_type": "markdown",
   "metadata": {},
   "source": [
    "### Gamma corrected fade-UP"
   ]
  },
  {
   "cell_type": "code",
   "execution_count": 247,
   "metadata": {},
   "outputs": [],
   "source": [
    "# Precompute quadratic brightness values\n",
    "bVals = array( arange(33)**2/4, dtype=uint8 )\n",
    "bVals[-1] = 255"
   ]
  },
  {
   "cell_type": "code",
   "execution_count": 248,
   "metadata": {},
   "outputs": [],
   "source": [
    "for bVal in bVals:\n",
    "    x = array( [bVal, bVal, bVal]*5, dtype=uint8 )\n",
    "    updateLed( s, x, 0 )\n",
    "    sleep(0.03)"
   ]
  },
  {
   "cell_type": "markdown",
   "metadata": {},
   "source": [
    "### Each LED a random color"
   ]
  },
  {
   "cell_type": "code",
   "execution_count": 37,
   "metadata": {},
   "outputs": [],
   "source": [
    "# Set it once\n",
    "x = array(random.randint(0,255,58*3),dtype=uint8)\n",
    "updateLed(s, x, 0)\n",
    "updateLed(s, x, 1)\n",
    "updateLed(s, x, 2)"
   ]
  },
  {
   "cell_type": "code",
   "execution_count": 46,
   "metadata": {},
   "outputs": [
    {
     "ename": "KeyboardInterrupt",
     "evalue": "",
     "output_type": "error",
     "traceback": [
      "\u001b[0;31m---------------------------------------------------------------------------\u001b[0m",
      "\u001b[0;31mKeyboardInterrupt\u001b[0m                         Traceback (most recent call last)",
      "\u001b[0;32m<ipython-input-46-375df6d79138>\u001b[0m in \u001b[0;36m<module>\u001b[0;34m\u001b[0m\n\u001b[1;32m      5\u001b[0m     \u001b[0mupdateLed\u001b[0m\u001b[0;34m(\u001b[0m \u001b[0ms\u001b[0m\u001b[0;34m,\u001b[0m \u001b[0mx\u001b[0m\u001b[0;34m,\u001b[0m \u001b[0;36m1\u001b[0m \u001b[0;34m)\u001b[0m\u001b[0;34m\u001b[0m\u001b[0;34m\u001b[0m\u001b[0m\n\u001b[1;32m      6\u001b[0m     \u001b[0mupdateLed\u001b[0m\u001b[0;34m(\u001b[0m \u001b[0ms\u001b[0m\u001b[0;34m,\u001b[0m \u001b[0mx\u001b[0m\u001b[0;34m,\u001b[0m \u001b[0;36m2\u001b[0m \u001b[0;34m)\u001b[0m\u001b[0;34m\u001b[0m\u001b[0;34m\u001b[0m\u001b[0m\n\u001b[0;32m----> 7\u001b[0;31m     \u001b[0mtime\u001b[0m\u001b[0;34m.\u001b[0m\u001b[0msleep\u001b[0m\u001b[0;34m(\u001b[0m\u001b[0;36m0.05\u001b[0m\u001b[0;34m)\u001b[0m\u001b[0;34m\u001b[0m\u001b[0;34m\u001b[0m\u001b[0m\n\u001b[0m",
      "\u001b[0;31mKeyboardInterrupt\u001b[0m: "
     ]
    }
   ],
   "source": [
    "# Set it in a loop\n",
    "while True:\n",
    "    x = array(random.randint(0,2,58*3)*25,dtype=uint8)\n",
    "    updateLed( s, x, 0 )\n",
    "    updateLed( s, x, 1 )\n",
    "    updateLed( s, x, 2 )\n",
    "    sleep(0.05)"
   ]
  },
  {
   "cell_type": "markdown",
   "metadata": {},
   "source": [
    "# Rainbow"
   ]
  },
  {
   "cell_type": "markdown",
   "metadata": {},
   "source": [
    "### Darken LEDs"
   ]
  },
  {
   "cell_type": "code",
   "execution_count": 38,
   "metadata": {},
   "outputs": [],
   "source": [
    "s.write(b\"LEC 1 2400000\\n\")\n",
    "updateLed( s , zeros(70*3, dtype=uint8), 0 )\n",
    "updateLed( s , zeros(70*3, dtype=uint8), 1 )\n",
    "updateLed( s , zeros(70*3, dtype=uint8), 2 )"
   ]
  },
  {
   "cell_type": "markdown",
   "metadata": {},
   "source": [
    "### Setup color values"
   ]
  },
  {
   "cell_type": "code",
   "execution_count": 39,
   "metadata": {},
   "outputs": [],
   "source": [
    "nCols = 200\n",
    "x = arange(nCols)/(nCols-1)\n",
    "x2 = list(map( hsv_to_rgb, x, ones(nCols), ones(nCols)*1.0))\n",
    "rawOut = array( array(x2) * 255, dtype=uint8 )"
   ]
  },
  {
   "cell_type": "markdown",
   "metadata": {},
   "source": [
    "### Roll color values through the string"
   ]
  },
  {
   "cell_type": "code",
   "execution_count": 40,
   "metadata": {},
   "outputs": [
    {
     "ename": "KeyboardInterrupt",
     "evalue": "",
     "output_type": "error",
     "traceback": [
      "\u001b[0;31m---------------------------------------------------------------------------\u001b[0m",
      "\u001b[0;31mKeyboardInterrupt\u001b[0m                         Traceback (most recent call last)",
      "\u001b[0;32m<ipython-input-40-0a79ef51d94f>\u001b[0m in \u001b[0;36m<module>\u001b[0;34m\u001b[0m\n\u001b[1;32m      4\u001b[0m     \u001b[0mupdateLed\u001b[0m\u001b[0;34m(\u001b[0m \u001b[0ms\u001b[0m\u001b[0;34m,\u001b[0m \u001b[0mrawOut\u001b[0m\u001b[0;34m[\u001b[0m\u001b[0;34m:\u001b[0m\u001b[0;36m60\u001b[0m\u001b[0;34m]\u001b[0m\u001b[0;34m,\u001b[0m \u001b[0;36m2\u001b[0m \u001b[0;34m)\u001b[0m\u001b[0;34m\u001b[0m\u001b[0;34m\u001b[0m\u001b[0m\n\u001b[1;32m      5\u001b[0m     \u001b[0mrawOut\u001b[0m \u001b[0;34m=\u001b[0m \u001b[0mroll\u001b[0m\u001b[0;34m(\u001b[0m\u001b[0mrawOut\u001b[0m\u001b[0;34m,\u001b[0m \u001b[0;36m3\u001b[0m\u001b[0;34m)\u001b[0m\u001b[0;34m\u001b[0m\u001b[0;34m\u001b[0m\u001b[0m\n\u001b[0;32m----> 6\u001b[0;31m     \u001b[0mtime\u001b[0m\u001b[0;34m.\u001b[0m\u001b[0msleep\u001b[0m\u001b[0;34m(\u001b[0m\u001b[0;36m1\u001b[0m\u001b[0;34m/\u001b[0m\u001b[0;36m60\u001b[0m\u001b[0;34m)\u001b[0m\u001b[0;34m\u001b[0m\u001b[0;34m\u001b[0m\u001b[0m\n\u001b[0m",
      "\u001b[0;31mKeyboardInterrupt\u001b[0m: "
     ]
    }
   ],
   "source": [
    "while(True):\n",
    "    updateLed( s, array(rawOut[:60]/5, dtype=uint8), 0 )\n",
    "    updateLed( s, rawOut[:60], 1 )\n",
    "    updateLed( s, rawOut[:60], 2 )\n",
    "    rawOut = roll(rawOut, 3)\n",
    "    sleep(1/60)"
   ]
  },
  {
   "cell_type": "markdown",
   "metadata": {},
   "source": [
    "# Enable reporting of Switch Events"
   ]
  },
  {
   "cell_type": "code",
   "execution_count": 495,
   "metadata": {},
   "outputs": [
    {
     "data": {
      "text/plain": [
       "4"
      ]
     },
     "execution_count": 495,
     "metadata": {},
     "output_type": "execute_result"
    }
   ],
   "source": [
    "#SWE   : <OnOff> En./Dis. reporting of switch events.\n",
    "s.write(b\"HI 0x48\\n\")\n",
    "s.write(b\"SWE 1\\n\")\n",
    "s.write(b\"SW?\\n\")"
   ]
  },
  {
   "cell_type": "code",
   "execution_count": 498,
   "metadata": {},
   "outputs": [
    {
     "name": "stdout",
     "output_type": "stream",
     "text": [
      "b'SE:04f=0 \\nSE:04f=1 \\n'\n"
     ]
    }
   ],
   "source": [
    "print(s.read_all())"
   ]
  },
  {
   "cell_type": "markdown",
   "metadata": {
    "collapsed": true
   },
   "source": [
    "# Play with Relay Outputs"
   ]
  },
  {
   "cell_type": "markdown",
   "metadata": {},
   "source": [
    "### Flush serial input buffer"
   ]
  },
  {
   "cell_type": "code",
   "execution_count": 499,
   "metadata": {},
   "outputs": [
    {
     "name": "stdout",
     "output_type": "stream",
     "text": [
      "b''\n",
      "b'ID:MB:V0.2\\n'\n"
     ]
    }
   ],
   "source": [
    "print(s.read_all())\n",
    "s.write(b\"\\n*IDN?\\n\")\n",
    "print(s.read_until())"
   ]
  },
  {
   "cell_type": "markdown",
   "metadata": {},
   "source": [
    "### Unstuck relay"
   ]
  },
  {
   "cell_type": "code",
   "execution_count": 425,
   "metadata": {},
   "outputs": [],
   "source": [
    "for i in range(30):\n",
    "    s.write(b\"SOE 1\\n\")\n",
    "    sleep(0.05)\n",
    "    s.write(b\"SOE 0\\n\")\n",
    "    sleep(0.05)"
   ]
  },
  {
   "cell_type": "code",
   "execution_count": 419,
   "metadata": {},
   "outputs": [
    {
     "data": {
      "text/plain": [
       "6"
      ]
     },
     "execution_count": 419,
     "metadata": {},
     "output_type": "execute_result"
    }
   ],
   "source": [
    "s.write(b\"SOE 0\\n\")"
   ]
  },
  {
   "cell_type": "markdown",
   "metadata": {},
   "source": [
    "### Flippers"
   ]
  },
  {
   "cell_type": "code",
   "execution_count": 424,
   "metadata": {},
   "outputs": [],
   "source": [
    "for i in (0x3C, 0x3E):\n",
    "    s.write( \"OUT {0} 0 30 1000\\n\".format(i).encode(\"utf8\") )\n",
    "    sleep( 0.1 )"
   ]
  },
  {
   "cell_type": "markdown",
   "metadata": {},
   "source": [
    "### Enable 24 V solenoid power (careful!)"
   ]
  },
  {
   "cell_type": "code",
   "execution_count": 418,
   "metadata": {},
   "outputs": [
    {
     "data": {
      "text/plain": [
       "6"
      ]
     },
     "execution_count": 418,
     "metadata": {},
     "output_type": "execute_result"
    }
   ],
   "source": [
    "s.write(b\"SOE 1\\n\")"
   ]
  },
  {
   "cell_type": "markdown",
   "metadata": {},
   "source": [
    "### Set a Solenoid to a specific power"
   ]
  },
  {
   "cell_type": "code",
   "execution_count": 399,
   "metadata": {},
   "outputs": [
    {
     "data": {
      "text/plain": [
       "11"
      ]
     },
     "execution_count": 399,
     "metadata": {},
     "output_type": "execute_result"
    }
   ],
   "source": [
    "#OUT   : <hwIndex> <PWMlow>\n",
    "s.write(b\"OUT 0x40 0\\n\")"
   ]
  },
  {
   "cell_type": "markdown",
   "metadata": {},
   "source": [
    "### Trigger a solenoid pulse"
   ]
  },
  {
   "cell_type": "code",
   "execution_count": 40,
   "metadata": {},
   "outputs": [
    {
     "data": {
      "text/plain": [
       "16"
      ]
     },
     "execution_count": 40,
     "metadata": {},
     "output_type": "execute_result"
    }
   ],
   "source": [
    "#OUT   : <hwIndex> <PWMlow> [tPulse] [PWMhigh]\n",
    "s.write(b\"OUT 0x40 0 20 2\\n\")\n",
    "s.write(b\"OUT 0x41 0 20 2\\n\")\n",
    "s.write(b\"OUT 0x42 0 20 2\\n\")"
   ]
  },
  {
   "cell_type": "markdown",
   "metadata": {},
   "source": [
    "### Mushrooms"
   ]
  },
  {
   "cell_type": "code",
   "execution_count": 517,
   "metadata": {},
   "outputs": [
    {
     "data": {
      "text/plain": [
       "19"
      ]
     },
     "execution_count": 517,
     "metadata": {},
     "output_type": "execute_result"
    }
   ],
   "source": [
    "for i in (0x40, 0x41, 0x42):\n",
    "    s.write( \"OUT {0} 0 30 2\\n\".format(i).encode(\"utf8\") )\n",
    "    sleep( 0.1 )\n",
    "s.write( b\"OUT 0x3D 0 30 1000\\n\" )"
   ]
  },
  {
   "cell_type": "markdown",
   "metadata": {},
   "source": [
    "# Setup quick-fire rules"
   ]
  },
  {
   "cell_type": "markdown",
   "metadata": {},
   "source": [
    "Right flipper switch, negative edge --> Pulse right flipper solenoid for 100 ms\n",
    "\n",
    "Add a 1000 ms hold-off time (triggers max. once a second). "
   ]
  },
  {
   "cell_type": "code",
   "execution_count": 528,
   "metadata": {},
   "outputs": [
    {
     "data": {
      "text/plain": [
       "34"
      ]
     },
     "execution_count": 528,
     "metadata": {},
     "output_type": "execute_result"
    }
   ],
   "source": [
    "#RUL <ID> <IDin> <IDout> <trHoldOff> <tPulse> <pwmOn> <pwmOff> <bPosEdge>\n",
    "s.write(b\"RUL 0 0x4F 0x3E 1000 100 1000 0 0\\n\")"
   ]
  },
  {
   "cell_type": "markdown",
   "metadata": {},
   "source": [
    "### Disable the rules"
   ]
  },
  {
   "cell_type": "code",
   "execution_count": 534,
   "metadata": {},
   "outputs": [],
   "source": [
    "for i in range(16):\n",
    "    s.write(\"RULE {0} 0\\n\".format(i).encode(\"UTF8\"))"
   ]
  },
  {
   "cell_type": "markdown",
   "metadata": {},
   "source": [
    "### Rules for basic Flipper operation (Fan-Tas-Tic)"
   ]
  },
  {
   "cell_type": "code",
   "execution_count": 533,
   "metadata": {
    "scrolled": true
   },
   "outputs": [
    {
     "name": "stdout",
     "output_type": "stream",
     "text": [
      "RUL 4 5 64 0 20 4 0 1\n",
      "\n",
      "RUL 5 4 65 0 20 4 0 1\n",
      "\n",
      "RUL 6 3 66 0 20 4 0 1\n",
      "\n",
      "RUL 7 26 61 0 20 1500 0 1\n",
      "\n",
      "RUL 8 22 70 1000 75 3 0 1\n",
      "\n",
      "RUL 9 35 71 1000 75 3 0 1\n",
      "\n",
      "RUL 10 0 67 1000 75 3 0 1\n",
      "\n"
     ]
    }
   ],
   "source": [
    "#RUL    <ID><IDin><IDout><trHoldOff><tPulse><pwmOn><pwmOff><bPosEdge>\n",
    "# Note that buttons are active low\n",
    "# Flipper rules\n",
    "# Attack + Hold on neg. edge\n",
    "s.write(b\"RUL 0 0x4C 0x3C 200 75 1500 500 0\\n\")\n",
    "s.write(b\"RUL 1 0x4F 0x3E 200 75 1500 500 0\\n\")\n",
    "# Release on pos. edge\n",
    "s.write(b\"RUL 2 0x4C 0x3C 0 0 0 0 1\\n\")\n",
    "s.write(b\"RUL 3 0x4F 0x3E 0 0 0 0 1\\n\")\n",
    "# Jet bumper rules\n",
    "for rulId, hwIndexIn, hwIndexOut in zip( (4,5,6,7), (0x05, 0x04, 0x03, 0x1A), (0x40, 0x41, 0x42, 0x3D) ):\n",
    "    if hwIndexOut == 0x3D:\n",
    "        power = 1500\n",
    "    else:\n",
    "        power = 4\n",
    "    rulStr = \"RUL {0} {1} {2} 0 20 {3} 0 1\\n\".format( rulId, hwIndexIn, hwIndexOut, power )\n",
    "    print( rulStr )\n",
    "    s.write( rulStr.encode(\"UTF8\") )\n",
    "    # disable debouncing for the jet bumper inputs\n",
    "    #s.write( \"DEB {0} 0\\n\".format(hwIndexIn).encode(\"UTF8\") )\n",
    "# Captive ball rules\n",
    "for rulId, hwIndexIn, hwIndexOut in zip( (8,9,10), (0x16, 0x23, 0x00), (0x46, 0x47, 0x43) ):\n",
    "    rulStr = \"RUL {0} {1} {2} 1000 75 3 0 1\\n\".format( rulId, hwIndexIn, hwIndexOut )\n",
    "    print( rulStr )\n",
    "    s.write( rulStr.encode(\"UTF8\") )\n",
    "\n",
    "    "
   ]
  },
  {
   "cell_type": "markdown",
   "metadata": {},
   "source": [
    "    #Flippers\n",
    "    RUL 0 0x4C 0x3C 200 75 3000 500 0\n",
    "    RUL 1 0x4F 0x3E 200 75 3000 500 0\n",
    "    RUL 2 0x4C 0x3C 0 0 0 0 1\n",
    "    RUL 3 0x4F 0x3E 0 0 0 0 1\n",
    "\n",
    "    #Jet bumpers\n",
    "    RUL 4 5 64 0 15 4 0 1\n",
    "    RUL 5 4 65 0 15 4 0 1\n",
    "    RUL 6 3 66 0 15 4 0 1\n",
    "    RUL 7 26 61 0 15 4000 0 1\n",
    "    \n",
    "    #Captive holes\n",
    "    #R\n",
    "    RUL 8 0x16 0x46 500 75 3 0 1\n",
    "    #L\n",
    "    RUL 9 0x23 0x47 500 75 3 0 1\n",
    "    #T\n",
    "    RUL 10 0x00 0x43 500 75 3 0 1\n",
    "    "
   ]
  },
  {
   "cell_type": "code",
   "execution_count": 536,
   "metadata": {},
   "outputs": [
    {
     "data": {
      "text/plain": [
       "6"
      ]
     },
     "execution_count": 536,
     "metadata": {},
     "output_type": "execute_result"
    }
   ],
   "source": [
    "s.write(b\"SWE 0\\n\")\n",
    "s.write(b\"SOE 0\\n\")"
   ]
  },
  {
   "cell_type": "code",
   "execution_count": 537,
   "metadata": {},
   "outputs": [],
   "source": [
    "s.close()"
   ]
  },
  {
   "cell_type": "code",
   "execution_count": null,
   "metadata": {},
   "outputs": [],
   "source": []
  }
 ],
 "metadata": {
  "kernelspec": {
   "display_name": "Python 3",
   "language": "python",
   "name": "python3"
  },
  "language_info": {
   "codemirror_mode": {
    "name": "ipython",
    "version": 3
   },
   "file_extension": ".py",
   "mimetype": "text/x-python",
   "name": "python",
   "nbconvert_exporter": "python",
   "pygments_lexer": "ipython3",
   "version": "3.7.5rc1"
  }
 },
 "nbformat": 4,
 "nbformat_minor": 1
}
